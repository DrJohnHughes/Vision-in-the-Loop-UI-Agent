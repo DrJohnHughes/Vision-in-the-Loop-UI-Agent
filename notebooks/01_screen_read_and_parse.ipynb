{
 "cells": [
  {
   "cell_type": "markdown",
   "id": "c0133c76-63ba-4ab9-b66d-320e2202db85",
   "metadata": {},
   "source": [
    "# Screen Read and Parse\n",
    "### Minimal streaming example (Ollama)\n",
    "##### Dr John Hughes"
   ]
  },
  {
   "cell_type": "code",
   "execution_count": null,
   "id": "a3c340a3-a566-4f24-a632-0c77266eee30",
   "metadata": {},
   "outputs": [],
   "source": [
    "# Allow \"from src....\" imports when running this notebook\n",
    "import os, sys\n",
    "sys.path.append(os.path.abspath(\".\"))"
   ]
  },
  {
   "cell_type": "code",
   "execution_count": null,
   "id": "faf9380c-f3a8-414d-91f4-74dc9151038f",
   "metadata": {},
   "outputs": [],
   "source": [
    "from PIL import Image\n",
    "from IPython.display import display\n",
    "import ollama, time\n",
    "\n",
    "IMG = \"assets/sample.jpg\"\n",
    "display(Image.open(IMG).convert(\"RGB\"))\n",
    "\n",
    "messages = [\n",
    "  {\"role\":\"system\",\"content\":\"You are a UI agent. Output ONLY a compact JSON action.\"},\n",
    "  {\"role\":\"user\",\"content\":\"Click the 'Export' button, then type 'report.pdf' and press Enter.\", \"images\":[IMG]},\n",
    "]\n",
    "\n",
    "schema_hint = (\n",
    "  \"Return JSON with fields: {\\\"action\\\":\\\"click|type|hotkey\\\",\"\n",
    "  \"\\\"target\\\":\\\"selector or description\\\",\\\"text\\\":\\\"optional\\\"}\"\n",
    ")\n",
    "\n",
    "full = []\n",
    "for chunk in ollama.chat(model=\"llama3.2-vision\", messages=messages+[{\"role\":\"user\",\"content\":schema_hint}], stream=True):\n",
    "    txt = chunk.get(\"message\",{}).get(\"content\",\"\")\n",
    "    if txt: print(txt, end=\"\", flush=True); full.append(txt)\n",
    "\n",
    "raw = \"\".join(full)\n",
    "print(\"\\n\\nRAW:\", raw)"
   ]
  }
 ],
 "metadata": {
  "kernelspec": {
   "display_name": "Python (gpt-lab)",
   "language": "python",
   "name": "gpt-lab"
  },
  "language_info": {
   "codemirror_mode": {
    "name": "ipython",
    "version": 3
   },
   "file_extension": ".py",
   "mimetype": "text/x-python",
   "name": "python",
   "nbconvert_exporter": "python",
   "pygments_lexer": "ipython3",
   "version": "3.10.18"
  }
 },
 "nbformat": 4,
 "nbformat_minor": 5
}
